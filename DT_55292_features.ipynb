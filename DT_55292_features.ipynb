{
 "cells": [
  {
   "cell_type": "code",
   "execution_count": 1,
   "id": "a58cbd43-6e60-464a-998b-f9e19930ba9e",
   "metadata": {},
   "outputs": [],
   "source": [
    "# Import necessary libraries\n",
    "import pandas as pd\n",
    "import numpy as np\n",
    "import matplotlib.pyplot as plt\n",
    "from sklearn.model_selection import train_test_split\n",
    "from sklearn.tree import DecisionTreeClassifier\n",
    "from sklearn.model_selection import GridSearchCV\n",
    "from sklearn.metrics import accuracy_score\n",
    "from sklearn.model_selection import cross_val_score\n",
    "from sklearn.feature_selection import RFE"
   ]
  },
  {
   "cell_type": "code",
   "execution_count": 2,
   "id": "d624ebaf-d936-4756-8989-2dc0062bdeaf",
   "metadata": {},
   "outputs": [
    {
     "name": "stderr",
     "output_type": "stream",
     "text": [
      "/tmp/ipykernel_11258/4233955382.py:8: FutureWarning: Downcasting behavior in `replace` is deprecated and will be removed in a future version. To retain the old behavior, explicitly call `result.infer_objects(copy=False)`. To opt-in to the future behavior, set `pd.set_option('future.no_silent_downcasting', True)`\n",
      "  labels_df.replace({'R':1,'NR':0}, inplace=True)\n"
     ]
    }
   ],
   "source": [
    "# Read the label data from a text file (tab-separated) into a DataFrame\n",
    "labels_df = pd.read_csv('label_755.txt',sep='\\t',header=None)\n",
    "\n",
    "# Rename the columns to 'sample' for the sample ID and 'label' for the target variable\n",
    "labels_df.columns=['sample','label']\n",
    "\n",
    "# Replace 'R' with 1 and 'NR' with 0 in the 'label' column for binary classification\n",
    "labels_df.replace({'R':1,'NR':0}, inplace=True)"
   ]
  },
  {
   "cell_type": "code",
   "execution_count": 3,
   "id": "c2b2f984-4391-4472-a4f1-df4f8812821c",
   "metadata": {},
   "outputs": [],
   "source": [
    "# Read the gene abundance data from a text file (space-separated) into a pandas DataFrame\n",
    "gene_M=pd.read_csv('difgene_abundance_755_55292_train.txt',sep='\\t',low_memory=False,index_col=0)\n",
    "gene_M=gene_M.T\n",
    "gene_M = gene_M.reset_index()\n",
    "gene_M = gene_M.rename(columns={'index':'sample'})"
   ]
  },
  {
   "cell_type": "code",
   "execution_count": 4,
   "id": "1a1a4a5c-b6b0-496f-b1a6-0f38d5b8d923",
   "metadata": {},
   "outputs": [
    {
     "data": {
      "text/plain": [
       "(755, 55292)"
      ]
     },
     "execution_count": 4,
     "metadata": {},
     "output_type": "execute_result"
    }
   ],
   "source": [
    "# Merge the gene abundance DataFrame (gene_M) with the labels DataFrame (labels_df) on the 'sample' column.\n",
    "df=pd.merge(gene_M,labels_df,on='sample',how='inner')\n",
    "labels =df['label']\n",
    "X=df.drop(['sample','label'],axis=1).values\n",
    "X.shape"
   ]
  },
  {
   "cell_type": "code",
   "execution_count": 5,
   "id": "2987cc16-caa6-4614-bcc7-6915bdffe4b3",
   "metadata": {},
   "outputs": [
    {
     "name": "stdout",
     "output_type": "stream",
     "text": [
      "Fitting 10 folds for each of 3 candidates, totalling 30 fits\n",
      "{'criterion': 'entropy'}\n",
      "best accuracy:0.566375\n"
     ]
    }
   ],
   "source": [
    "# Optimized the 'criterion' parameter, default=”gini”\n",
    "param_grid = {\"criterion\":['gini', 'entropy', 'log_loss']}\n",
    "gsearch1 = GridSearchCV(DecisionTreeClassifier(random_state=0),param_grid, n_jobs= -1,\n",
    "                        scoring='roc_auc',cv=10,verbose=1)\n",
    "gsearch1.fit(X,labels)\n",
    "print(gsearch1.best_params_)\n",
    "print(\"best accuracy:%f\" % gsearch1.best_score_)"
   ]
  },
  {
   "cell_type": "code",
   "execution_count": 6,
   "id": "1522ccad-fbd3-44ca-bce7-0d73138c0af7",
   "metadata": {},
   "outputs": [
    {
     "name": "stdout",
     "output_type": "stream",
     "text": [
      "Fitting 10 folds for each of 10 candidates, totalling 100 fits\n",
      "{'max_depth': 101}\n",
      "best accuracy:0.566375\n"
     ]
    }
   ],
   "source": [
    "# Optimized the 'max_depth' parameter, default=None\n",
    "param_grid = {\"max_depth\":range(1,1000,100)}\n",
    "gsearch1 = GridSearchCV(DecisionTreeClassifier(criterion='entropy',random_state=0),param_grid, n_jobs= -1,\n",
    "                        scoring='roc_auc',cv=10,verbose=1)\n",
    "gsearch1.fit(X,labels)\n",
    "print(gsearch1.best_params_)\n",
    "print(\"best accuracy:%f\" % gsearch1.best_score_)"
   ]
  },
  {
   "cell_type": "code",
   "execution_count": 7,
   "id": "be0721c6-0c8b-454c-bce3-0639df5aaf8c",
   "metadata": {},
   "outputs": [
    {
     "name": "stdout",
     "output_type": "stream",
     "text": [
      "Fitting 10 folds for each of 20 candidates, totalling 200 fits\n",
      "{'max_depth': 21}\n",
      "best accuracy:0.593676\n"
     ]
    }
   ],
   "source": [
    "# Optimized the 'max_depth' parameter, default=None\n",
    "param_grid = {\"max_depth\":range(1,201,10)}\n",
    "gsearch1 = GridSearchCV(DecisionTreeClassifier(criterion='entropy',random_state=0),param_grid, n_jobs= -1,\n",
    "                        scoring='roc_auc',cv=10,verbose=1)\n",
    "gsearch1.fit(X,labels)\n",
    "print(gsearch1.best_params_)\n",
    "print(\"best accuracy:%f\" % gsearch1.best_score_)"
   ]
  },
  {
   "cell_type": "code",
   "execution_count": 8,
   "id": "bba9b081-8b58-44c6-ac42-29e690f6095b",
   "metadata": {},
   "outputs": [
    {
     "name": "stdout",
     "output_type": "stream",
     "text": [
      "Fitting 10 folds for each of 24 candidates, totalling 240 fits\n",
      "{'min_samples_split': 32}\n",
      "best accuracy:0.619973\n"
     ]
    }
   ],
   "source": [
    "# Optimized the 'min_samples_split' parameter, default=2\n",
    "param_grid = {\"min_samples_split\":range(2,50,2)}\n",
    "gsearch1 = GridSearchCV(DecisionTreeClassifier(criterion='entropy',max_depth=21,random_state=0),param_grid, n_jobs= -1,\n",
    "                        scoring='roc_auc',cv=10,verbose=1)\n",
    "gsearch1.fit(X,labels)\n",
    "print(gsearch1.best_params_)\n",
    "print(\"best accuracy:%f\" % gsearch1.best_score_)"
   ]
  },
  {
   "cell_type": "code",
   "execution_count": 9,
   "id": "0ec7bab0-3b0a-414d-982f-f9b309507651",
   "metadata": {},
   "outputs": [
    {
     "name": "stdout",
     "output_type": "stream",
     "text": [
      "Fitting 10 folds for each of 4 candidates, totalling 40 fits\n",
      "{'min_samples_split': 32}\n",
      "best accuracy:0.619973\n"
     ]
    }
   ],
   "source": [
    "# Optimized the 'min_samples_split' parameter, default=2\n",
    "param_grid = {\"min_samples_split\":range(30,34,1)}\n",
    "gsearch1 = GridSearchCV(DecisionTreeClassifier(criterion='entropy',max_depth=21,random_state=0),param_grid, n_jobs= -1,\n",
    "                        scoring='roc_auc',cv=10,verbose=1)\n",
    "gsearch1.fit(X,labels)\n",
    "print(gsearch1.best_params_)\n",
    "print(\"best accuracy:%f\" % gsearch1.best_score_)"
   ]
  },
  {
   "cell_type": "code",
   "execution_count": 10,
   "id": "607a8c99-9f56-4b84-b02f-c7027e9bb1ea",
   "metadata": {},
   "outputs": [
    {
     "name": "stdout",
     "output_type": "stream",
     "text": [
      "Fitting 10 folds for each of 10 candidates, totalling 100 fits\n",
      "{'min_samples_leaf': 1}\n",
      "best accuracy:0.619973\n"
     ]
    }
   ],
   "source": [
    "# Optimized the 'min_samples_leaf' parameter, default = 1\n",
    "param_grid = {\"min_samples_leaf\":range(1,50,5)}\n",
    "gsearch1 = GridSearchCV(DecisionTreeClassifier(criterion='entropy',max_depth=21,min_samples_split=32, random_state=0),param_grid, n_jobs= -1,\n",
    "                        scoring='roc_auc',cv=10,verbose=1)\n",
    "gsearch1.fit(X,labels)\n",
    "print(gsearch1.best_params_)\n",
    "print(\"best accuracy:%f\" % gsearch1.best_score_)"
   ]
  },
  {
   "cell_type": "code",
   "execution_count": 11,
   "id": "0de82b33-57b4-4acd-bcb1-d588d1f1b24a",
   "metadata": {},
   "outputs": [
    {
     "data": {
      "text/html": [
       "<style>#sk-container-id-1 {color: black;background-color: white;}#sk-container-id-1 pre{padding: 0;}#sk-container-id-1 div.sk-toggleable {background-color: white;}#sk-container-id-1 label.sk-toggleable__label {cursor: pointer;display: block;width: 100%;margin-bottom: 0;padding: 0.3em;box-sizing: border-box;text-align: center;}#sk-container-id-1 label.sk-toggleable__label-arrow:before {content: \"▸\";float: left;margin-right: 0.25em;color: #696969;}#sk-container-id-1 label.sk-toggleable__label-arrow:hover:before {color: black;}#sk-container-id-1 div.sk-estimator:hover label.sk-toggleable__label-arrow:before {color: black;}#sk-container-id-1 div.sk-toggleable__content {max-height: 0;max-width: 0;overflow: hidden;text-align: left;background-color: #f0f8ff;}#sk-container-id-1 div.sk-toggleable__content pre {margin: 0.2em;color: black;border-radius: 0.25em;background-color: #f0f8ff;}#sk-container-id-1 input.sk-toggleable__control:checked~div.sk-toggleable__content {max-height: 200px;max-width: 100%;overflow: auto;}#sk-container-id-1 input.sk-toggleable__control:checked~label.sk-toggleable__label-arrow:before {content: \"▾\";}#sk-container-id-1 div.sk-estimator input.sk-toggleable__control:checked~label.sk-toggleable__label {background-color: #d4ebff;}#sk-container-id-1 div.sk-label input.sk-toggleable__control:checked~label.sk-toggleable__label {background-color: #d4ebff;}#sk-container-id-1 input.sk-hidden--visually {border: 0;clip: rect(1px 1px 1px 1px);clip: rect(1px, 1px, 1px, 1px);height: 1px;margin: -1px;overflow: hidden;padding: 0;position: absolute;width: 1px;}#sk-container-id-1 div.sk-estimator {font-family: monospace;background-color: #f0f8ff;border: 1px dotted black;border-radius: 0.25em;box-sizing: border-box;margin-bottom: 0.5em;}#sk-container-id-1 div.sk-estimator:hover {background-color: #d4ebff;}#sk-container-id-1 div.sk-parallel-item::after {content: \"\";width: 100%;border-bottom: 1px solid gray;flex-grow: 1;}#sk-container-id-1 div.sk-label:hover label.sk-toggleable__label {background-color: #d4ebff;}#sk-container-id-1 div.sk-serial::before {content: \"\";position: absolute;border-left: 1px solid gray;box-sizing: border-box;top: 0;bottom: 0;left: 50%;z-index: 0;}#sk-container-id-1 div.sk-serial {display: flex;flex-direction: column;align-items: center;background-color: white;padding-right: 0.2em;padding-left: 0.2em;position: relative;}#sk-container-id-1 div.sk-item {position: relative;z-index: 1;}#sk-container-id-1 div.sk-parallel {display: flex;align-items: stretch;justify-content: center;background-color: white;position: relative;}#sk-container-id-1 div.sk-item::before, #sk-container-id-1 div.sk-parallel-item::before {content: \"\";position: absolute;border-left: 1px solid gray;box-sizing: border-box;top: 0;bottom: 0;left: 50%;z-index: -1;}#sk-container-id-1 div.sk-parallel-item {display: flex;flex-direction: column;z-index: 1;position: relative;background-color: white;}#sk-container-id-1 div.sk-parallel-item:first-child::after {align-self: flex-end;width: 50%;}#sk-container-id-1 div.sk-parallel-item:last-child::after {align-self: flex-start;width: 50%;}#sk-container-id-1 div.sk-parallel-item:only-child::after {width: 0;}#sk-container-id-1 div.sk-dashed-wrapped {border: 1px dashed gray;margin: 0 0.4em 0.5em 0.4em;box-sizing: border-box;padding-bottom: 0.4em;background-color: white;}#sk-container-id-1 div.sk-label label {font-family: monospace;font-weight: bold;display: inline-block;line-height: 1.2em;}#sk-container-id-1 div.sk-label-container {text-align: center;}#sk-container-id-1 div.sk-container {/* jupyter's `normalize.less` sets `[hidden] { display: none; }` but bootstrap.min.css set `[hidden] { display: none !important; }` so we also need the `!important` here to be able to override the default hidden behavior on the sphinx rendered scikit-learn.org. See: https://github.com/scikit-learn/scikit-learn/issues/21755 */display: inline-block !important;position: relative;}#sk-container-id-1 div.sk-text-repr-fallback {display: none;}</style><div id=\"sk-container-id-1\" class=\"sk-top-container\"><div class=\"sk-text-repr-fallback\"><pre>DecisionTreeClassifier(criterion=&#x27;entropy&#x27;, max_depth=21, min_samples_split=32,\n",
       "                       random_state=0)</pre><b>In a Jupyter environment, please rerun this cell to show the HTML representation or trust the notebook. <br />On GitHub, the HTML representation is unable to render, please try loading this page with nbviewer.org.</b></div><div class=\"sk-container\" hidden><div class=\"sk-item\"><div class=\"sk-estimator sk-toggleable\"><input class=\"sk-toggleable__control sk-hidden--visually\" id=\"sk-estimator-id-1\" type=\"checkbox\" checked><label for=\"sk-estimator-id-1\" class=\"sk-toggleable__label sk-toggleable__label-arrow\">DecisionTreeClassifier</label><div class=\"sk-toggleable__content\"><pre>DecisionTreeClassifier(criterion=&#x27;entropy&#x27;, max_depth=21, min_samples_split=32,\n",
       "                       random_state=0)</pre></div></div></div></div></div>"
      ],
      "text/plain": [
       "DecisionTreeClassifier(criterion='entropy', max_depth=21, min_samples_split=32,\n",
       "                       random_state=0)"
      ]
     },
     "execution_count": 11,
     "metadata": {},
     "output_type": "execute_result"
    }
   ],
   "source": [
    "# Create a Decision Tree classifier\n",
    "dtc = DecisionTreeClassifier(criterion='entropy',max_depth=21,min_samples_split=32, random_state=0)\n",
    "dtc.fit(X, labels)"
   ]
  },
  {
   "cell_type": "code",
   "execution_count": 12,
   "id": "bf7f76b5-2c17-4ca4-8654-a16bb596ef4b",
   "metadata": {},
   "outputs": [
    {
     "data": {
      "text/html": [
       "<div>\n",
       "<style scoped>\n",
       "    .dataframe tbody tr th:only-of-type {\n",
       "        vertical-align: middle;\n",
       "    }\n",
       "\n",
       "    .dataframe tbody tr th {\n",
       "        vertical-align: top;\n",
       "    }\n",
       "\n",
       "    .dataframe thead th {\n",
       "        text-align: right;\n",
       "    }\n",
       "</style>\n",
       "<table border=\"1\" class=\"dataframe\">\n",
       "  <thead>\n",
       "    <tr style=\"text-align: right;\">\n",
       "      <th></th>\n",
       "      <th>sample</th>\n",
       "      <th>gene_3</th>\n",
       "      <th>gene_9</th>\n",
       "      <th>gene_31</th>\n",
       "      <th>gene_62</th>\n",
       "      <th>gene_70</th>\n",
       "      <th>gene_107</th>\n",
       "      <th>gene_132</th>\n",
       "      <th>gene_158</th>\n",
       "      <th>gene_173</th>\n",
       "      <th>...</th>\n",
       "      <th>gene_4662751</th>\n",
       "      <th>gene_4662822</th>\n",
       "      <th>gene_4664176</th>\n",
       "      <th>gene_4664554</th>\n",
       "      <th>gene_4665019</th>\n",
       "      <th>gene_4665056</th>\n",
       "      <th>gene_4665086</th>\n",
       "      <th>gene_4665104</th>\n",
       "      <th>gene_4666141</th>\n",
       "      <th>gene_4666219</th>\n",
       "    </tr>\n",
       "  </thead>\n",
       "  <tbody>\n",
       "    <tr>\n",
       "      <th>0</th>\n",
       "      <td>SRR6000870</td>\n",
       "      <td>0.0</td>\n",
       "      <td>1.210000e-07</td>\n",
       "      <td>0.000000e+00</td>\n",
       "      <td>1.900000e-06</td>\n",
       "      <td>0.000000e+00</td>\n",
       "      <td>0.0</td>\n",
       "      <td>0.0</td>\n",
       "      <td>5.320000e-08</td>\n",
       "      <td>7.980000e-09</td>\n",
       "      <td>...</td>\n",
       "      <td>0.00000</td>\n",
       "      <td>0.000000</td>\n",
       "      <td>0.000000</td>\n",
       "      <td>0.000000</td>\n",
       "      <td>0.0</td>\n",
       "      <td>0.00000</td>\n",
       "      <td>0.000000</td>\n",
       "      <td>0.000000</td>\n",
       "      <td>0.000000</td>\n",
       "      <td>0.000000</td>\n",
       "    </tr>\n",
       "    <tr>\n",
       "      <th>1</th>\n",
       "      <td>SRR6000871</td>\n",
       "      <td>0.0</td>\n",
       "      <td>0.000000e+00</td>\n",
       "      <td>0.000000e+00</td>\n",
       "      <td>0.000000e+00</td>\n",
       "      <td>0.000000e+00</td>\n",
       "      <td>0.0</td>\n",
       "      <td>0.0</td>\n",
       "      <td>0.000000e+00</td>\n",
       "      <td>0.000000e+00</td>\n",
       "      <td>...</td>\n",
       "      <td>0.00000</td>\n",
       "      <td>0.000000</td>\n",
       "      <td>0.000000</td>\n",
       "      <td>0.000000</td>\n",
       "      <td>0.0</td>\n",
       "      <td>0.00000</td>\n",
       "      <td>0.000000</td>\n",
       "      <td>0.000000</td>\n",
       "      <td>0.000000</td>\n",
       "      <td>0.000000</td>\n",
       "    </tr>\n",
       "    <tr>\n",
       "      <th>2</th>\n",
       "      <td>SRR6000893</td>\n",
       "      <td>0.0</td>\n",
       "      <td>1.890000e-07</td>\n",
       "      <td>1.850000e-07</td>\n",
       "      <td>0.000000e+00</td>\n",
       "      <td>8.730000e-07</td>\n",
       "      <td>0.0</td>\n",
       "      <td>0.0</td>\n",
       "      <td>9.550000e-08</td>\n",
       "      <td>0.000000e+00</td>\n",
       "      <td>...</td>\n",
       "      <td>0.00000</td>\n",
       "      <td>0.000000</td>\n",
       "      <td>0.000000</td>\n",
       "      <td>0.000000</td>\n",
       "      <td>0.0</td>\n",
       "      <td>0.00000</td>\n",
       "      <td>0.000000</td>\n",
       "      <td>0.000000</td>\n",
       "      <td>0.000000</td>\n",
       "      <td>0.000000</td>\n",
       "    </tr>\n",
       "    <tr>\n",
       "      <th>3</th>\n",
       "      <td>SRR6000900</td>\n",
       "      <td>0.0</td>\n",
       "      <td>0.000000e+00</td>\n",
       "      <td>0.000000e+00</td>\n",
       "      <td>0.000000e+00</td>\n",
       "      <td>0.000000e+00</td>\n",
       "      <td>0.0</td>\n",
       "      <td>0.0</td>\n",
       "      <td>0.000000e+00</td>\n",
       "      <td>0.000000e+00</td>\n",
       "      <td>...</td>\n",
       "      <td>0.00000</td>\n",
       "      <td>0.000000</td>\n",
       "      <td>0.000000</td>\n",
       "      <td>0.000000</td>\n",
       "      <td>0.0</td>\n",
       "      <td>0.00000</td>\n",
       "      <td>0.000000</td>\n",
       "      <td>0.000000</td>\n",
       "      <td>0.000000</td>\n",
       "      <td>0.000000</td>\n",
       "    </tr>\n",
       "    <tr>\n",
       "      <th>4</th>\n",
       "      <td>SRR6000901</td>\n",
       "      <td>0.0</td>\n",
       "      <td>0.000000e+00</td>\n",
       "      <td>0.000000e+00</td>\n",
       "      <td>1.440000e-09</td>\n",
       "      <td>0.000000e+00</td>\n",
       "      <td>0.0</td>\n",
       "      <td>0.0</td>\n",
       "      <td>0.000000e+00</td>\n",
       "      <td>0.000000e+00</td>\n",
       "      <td>...</td>\n",
       "      <td>0.00000</td>\n",
       "      <td>0.000000</td>\n",
       "      <td>0.000000</td>\n",
       "      <td>0.000000</td>\n",
       "      <td>0.0</td>\n",
       "      <td>0.00000</td>\n",
       "      <td>0.000000</td>\n",
       "      <td>0.000000</td>\n",
       "      <td>0.000000</td>\n",
       "      <td>0.000000</td>\n",
       "    </tr>\n",
       "    <tr>\n",
       "      <th>...</th>\n",
       "      <td>...</td>\n",
       "      <td>...</td>\n",
       "      <td>...</td>\n",
       "      <td>...</td>\n",
       "      <td>...</td>\n",
       "      <td>...</td>\n",
       "      <td>...</td>\n",
       "      <td>...</td>\n",
       "      <td>...</td>\n",
       "      <td>...</td>\n",
       "      <td>...</td>\n",
       "      <td>...</td>\n",
       "      <td>...</td>\n",
       "      <td>...</td>\n",
       "      <td>...</td>\n",
       "      <td>...</td>\n",
       "      <td>...</td>\n",
       "      <td>...</td>\n",
       "      <td>...</td>\n",
       "      <td>...</td>\n",
       "      <td>...</td>\n",
       "    </tr>\n",
       "    <tr>\n",
       "      <th>59</th>\n",
       "      <td>ERR2162210</td>\n",
       "      <td>0.0</td>\n",
       "      <td>0.000000e+00</td>\n",
       "      <td>0.000000e+00</td>\n",
       "      <td>0.000000e+00</td>\n",
       "      <td>0.000000e+00</td>\n",
       "      <td>0.0</td>\n",
       "      <td>0.0</td>\n",
       "      <td>0.000000e+00</td>\n",
       "      <td>0.000000e+00</td>\n",
       "      <td>...</td>\n",
       "      <td>0.00000</td>\n",
       "      <td>0.000008</td>\n",
       "      <td>0.000013</td>\n",
       "      <td>0.000000</td>\n",
       "      <td>0.0</td>\n",
       "      <td>0.00001</td>\n",
       "      <td>0.000000</td>\n",
       "      <td>0.000000</td>\n",
       "      <td>0.000000</td>\n",
       "      <td>0.000000</td>\n",
       "    </tr>\n",
       "    <tr>\n",
       "      <th>60</th>\n",
       "      <td>ERR2162213</td>\n",
       "      <td>0.0</td>\n",
       "      <td>0.000000e+00</td>\n",
       "      <td>0.000000e+00</td>\n",
       "      <td>0.000000e+00</td>\n",
       "      <td>0.000000e+00</td>\n",
       "      <td>0.0</td>\n",
       "      <td>0.0</td>\n",
       "      <td>0.000000e+00</td>\n",
       "      <td>0.000000e+00</td>\n",
       "      <td>...</td>\n",
       "      <td>0.00007</td>\n",
       "      <td>0.000000</td>\n",
       "      <td>0.000000</td>\n",
       "      <td>0.000000</td>\n",
       "      <td>0.0</td>\n",
       "      <td>0.00000</td>\n",
       "      <td>0.000000</td>\n",
       "      <td>0.000000</td>\n",
       "      <td>0.000017</td>\n",
       "      <td>0.000004</td>\n",
       "    </tr>\n",
       "    <tr>\n",
       "      <th>61</th>\n",
       "      <td>ERR2162215</td>\n",
       "      <td>0.0</td>\n",
       "      <td>0.000000e+00</td>\n",
       "      <td>0.000000e+00</td>\n",
       "      <td>0.000000e+00</td>\n",
       "      <td>0.000000e+00</td>\n",
       "      <td>0.0</td>\n",
       "      <td>0.0</td>\n",
       "      <td>0.000000e+00</td>\n",
       "      <td>0.000000e+00</td>\n",
       "      <td>...</td>\n",
       "      <td>0.00000</td>\n",
       "      <td>0.000000</td>\n",
       "      <td>0.000000</td>\n",
       "      <td>0.000007</td>\n",
       "      <td>0.0</td>\n",
       "      <td>0.00000</td>\n",
       "      <td>0.000000</td>\n",
       "      <td>0.000000</td>\n",
       "      <td>0.000021</td>\n",
       "      <td>0.000005</td>\n",
       "    </tr>\n",
       "    <tr>\n",
       "      <th>62</th>\n",
       "      <td>ERR2162218</td>\n",
       "      <td>0.0</td>\n",
       "      <td>0.000000e+00</td>\n",
       "      <td>0.000000e+00</td>\n",
       "      <td>1.090000e-07</td>\n",
       "      <td>0.000000e+00</td>\n",
       "      <td>0.0</td>\n",
       "      <td>0.0</td>\n",
       "      <td>0.000000e+00</td>\n",
       "      <td>0.000000e+00</td>\n",
       "      <td>...</td>\n",
       "      <td>0.00000</td>\n",
       "      <td>0.000025</td>\n",
       "      <td>0.000000</td>\n",
       "      <td>0.000000</td>\n",
       "      <td>0.0</td>\n",
       "      <td>0.00000</td>\n",
       "      <td>0.000007</td>\n",
       "      <td>0.000011</td>\n",
       "      <td>0.000000</td>\n",
       "      <td>0.000019</td>\n",
       "    </tr>\n",
       "    <tr>\n",
       "      <th>63</th>\n",
       "      <td>ERR2162223</td>\n",
       "      <td>0.0</td>\n",
       "      <td>0.000000e+00</td>\n",
       "      <td>0.000000e+00</td>\n",
       "      <td>0.000000e+00</td>\n",
       "      <td>0.000000e+00</td>\n",
       "      <td>0.0</td>\n",
       "      <td>0.0</td>\n",
       "      <td>0.000000e+00</td>\n",
       "      <td>0.000000e+00</td>\n",
       "      <td>...</td>\n",
       "      <td>0.00000</td>\n",
       "      <td>0.000000</td>\n",
       "      <td>0.000000</td>\n",
       "      <td>0.000000</td>\n",
       "      <td>0.0</td>\n",
       "      <td>0.00000</td>\n",
       "      <td>0.000000</td>\n",
       "      <td>0.000016</td>\n",
       "      <td>0.000000</td>\n",
       "      <td>0.000030</td>\n",
       "    </tr>\n",
       "  </tbody>\n",
       "</table>\n",
       "<p>64 rows × 55293 columns</p>\n",
       "</div>"
      ],
      "text/plain": [
       "        sample  gene_3        gene_9       gene_31       gene_62  \\\n",
       "0   SRR6000870     0.0  1.210000e-07  0.000000e+00  1.900000e-06   \n",
       "1   SRR6000871     0.0  0.000000e+00  0.000000e+00  0.000000e+00   \n",
       "2   SRR6000893     0.0  1.890000e-07  1.850000e-07  0.000000e+00   \n",
       "3   SRR6000900     0.0  0.000000e+00  0.000000e+00  0.000000e+00   \n",
       "4   SRR6000901     0.0  0.000000e+00  0.000000e+00  1.440000e-09   \n",
       "..         ...     ...           ...           ...           ...   \n",
       "59  ERR2162210     0.0  0.000000e+00  0.000000e+00  0.000000e+00   \n",
       "60  ERR2162213     0.0  0.000000e+00  0.000000e+00  0.000000e+00   \n",
       "61  ERR2162215     0.0  0.000000e+00  0.000000e+00  0.000000e+00   \n",
       "62  ERR2162218     0.0  0.000000e+00  0.000000e+00  1.090000e-07   \n",
       "63  ERR2162223     0.0  0.000000e+00  0.000000e+00  0.000000e+00   \n",
       "\n",
       "         gene_70  gene_107  gene_132      gene_158      gene_173  ...  \\\n",
       "0   0.000000e+00       0.0       0.0  5.320000e-08  7.980000e-09  ...   \n",
       "1   0.000000e+00       0.0       0.0  0.000000e+00  0.000000e+00  ...   \n",
       "2   8.730000e-07       0.0       0.0  9.550000e-08  0.000000e+00  ...   \n",
       "3   0.000000e+00       0.0       0.0  0.000000e+00  0.000000e+00  ...   \n",
       "4   0.000000e+00       0.0       0.0  0.000000e+00  0.000000e+00  ...   \n",
       "..           ...       ...       ...           ...           ...  ...   \n",
       "59  0.000000e+00       0.0       0.0  0.000000e+00  0.000000e+00  ...   \n",
       "60  0.000000e+00       0.0       0.0  0.000000e+00  0.000000e+00  ...   \n",
       "61  0.000000e+00       0.0       0.0  0.000000e+00  0.000000e+00  ...   \n",
       "62  0.000000e+00       0.0       0.0  0.000000e+00  0.000000e+00  ...   \n",
       "63  0.000000e+00       0.0       0.0  0.000000e+00  0.000000e+00  ...   \n",
       "\n",
       "    gene_4662751  gene_4662822  gene_4664176  gene_4664554  gene_4665019  \\\n",
       "0        0.00000      0.000000      0.000000      0.000000           0.0   \n",
       "1        0.00000      0.000000      0.000000      0.000000           0.0   \n",
       "2        0.00000      0.000000      0.000000      0.000000           0.0   \n",
       "3        0.00000      0.000000      0.000000      0.000000           0.0   \n",
       "4        0.00000      0.000000      0.000000      0.000000           0.0   \n",
       "..           ...           ...           ...           ...           ...   \n",
       "59       0.00000      0.000008      0.000013      0.000000           0.0   \n",
       "60       0.00007      0.000000      0.000000      0.000000           0.0   \n",
       "61       0.00000      0.000000      0.000000      0.000007           0.0   \n",
       "62       0.00000      0.000025      0.000000      0.000000           0.0   \n",
       "63       0.00000      0.000000      0.000000      0.000000           0.0   \n",
       "\n",
       "    gene_4665056  gene_4665086  gene_4665104  gene_4666141  gene_4666219  \n",
       "0        0.00000      0.000000      0.000000      0.000000      0.000000  \n",
       "1        0.00000      0.000000      0.000000      0.000000      0.000000  \n",
       "2        0.00000      0.000000      0.000000      0.000000      0.000000  \n",
       "3        0.00000      0.000000      0.000000      0.000000      0.000000  \n",
       "4        0.00000      0.000000      0.000000      0.000000      0.000000  \n",
       "..           ...           ...           ...           ...           ...  \n",
       "59       0.00001      0.000000      0.000000      0.000000      0.000000  \n",
       "60       0.00000      0.000000      0.000000      0.000017      0.000004  \n",
       "61       0.00000      0.000000      0.000000      0.000021      0.000005  \n",
       "62       0.00000      0.000007      0.000011      0.000000      0.000019  \n",
       "63       0.00000      0.000000      0.000016      0.000000      0.000030  \n",
       "\n",
       "[64 rows x 55293 columns]"
      ]
     },
     "execution_count": 12,
     "metadata": {},
     "output_type": "execute_result"
    }
   ],
   "source": [
    "# Read in the gene abundance matrix for the independent test samples\n",
    "test_64=pd.read_csv('difgene_abundance_64_55292_test.txt',sep='\\t',low_memory=False,index_col=0)\n",
    "test_64=test_64.T\n",
    "test_64 = test_64.reset_index()\n",
    "test_64 = test_64.rename(columns={'index':'sample'})\n",
    "test_64"
   ]
  },
  {
   "cell_type": "code",
   "execution_count": 13,
   "id": "11a48ace-8e9a-4b96-a1fe-7e9dddbaab67",
   "metadata": {},
   "outputs": [],
   "source": [
    "X_test_64=test_64.drop(['sample'],axis=1).values"
   ]
  },
  {
   "cell_type": "code",
   "execution_count": 14,
   "id": "c8add4f8-cc05-4391-8e39-9a8103823a9e",
   "metadata": {},
   "outputs": [
    {
     "name": "stderr",
     "output_type": "stream",
     "text": [
      "/tmp/ipykernel_11258/1215660552.py:8: FutureWarning: Downcasting behavior in `replace` is deprecated and will be removed in a future version. To retain the old behavior, explicitly call `result.infer_objects(copy=False)`. To opt-in to the future behavior, set `pd.set_option('future.no_silent_downcasting', True)`\n",
      "  labels_test_64.replace({'R':1,'NR':0}, inplace=True)\n"
     ]
    }
   ],
   "source": [
    "# Read in the response labels for the test samples\n",
    "labels_test_64 = pd.read_csv('label_64.txt',sep='\\t',header=None)\n",
    "\n",
    "# Rename the columns to 'sample' for the sample ID and 'label' for the target variable\n",
    "labels_test_64.columns=['sample','label']\n",
    "\n",
    "# Replace 'R' with 1 and 'NR' with 0 in the 'label' column for binary classification\n",
    "labels_test_64.replace({'R':1,'NR':0}, inplace=True)"
   ]
  },
  {
   "cell_type": "code",
   "execution_count": 15,
   "id": "2b931faa-ddc4-4e17-8f9d-cb0f29f2ddd8",
   "metadata": {},
   "outputs": [
    {
     "data": {
      "text/html": [
       "<div>\n",
       "<style scoped>\n",
       "    .dataframe tbody tr th:only-of-type {\n",
       "        vertical-align: middle;\n",
       "    }\n",
       "\n",
       "    .dataframe tbody tr th {\n",
       "        vertical-align: top;\n",
       "    }\n",
       "\n",
       "    .dataframe thead th {\n",
       "        text-align: right;\n",
       "    }\n",
       "</style>\n",
       "<table border=\"1\" class=\"dataframe\">\n",
       "  <thead>\n",
       "    <tr style=\"text-align: right;\">\n",
       "      <th></th>\n",
       "      <th>sample</th>\n",
       "      <th>label</th>\n",
       "    </tr>\n",
       "  </thead>\n",
       "  <tbody>\n",
       "    <tr>\n",
       "      <th>0</th>\n",
       "      <td>SRR6000870</td>\n",
       "      <td>1</td>\n",
       "    </tr>\n",
       "    <tr>\n",
       "      <th>1</th>\n",
       "      <td>SRR6000871</td>\n",
       "      <td>1</td>\n",
       "    </tr>\n",
       "    <tr>\n",
       "      <th>2</th>\n",
       "      <td>SRR6000893</td>\n",
       "      <td>1</td>\n",
       "    </tr>\n",
       "    <tr>\n",
       "      <th>3</th>\n",
       "      <td>SRR6000900</td>\n",
       "      <td>1</td>\n",
       "    </tr>\n",
       "    <tr>\n",
       "      <th>4</th>\n",
       "      <td>SRR6000901</td>\n",
       "      <td>1</td>\n",
       "    </tr>\n",
       "    <tr>\n",
       "      <th>...</th>\n",
       "      <td>...</td>\n",
       "      <td>...</td>\n",
       "    </tr>\n",
       "    <tr>\n",
       "      <th>59</th>\n",
       "      <td>ERR2162210</td>\n",
       "      <td>0</td>\n",
       "    </tr>\n",
       "    <tr>\n",
       "      <th>60</th>\n",
       "      <td>ERR2162213</td>\n",
       "      <td>0</td>\n",
       "    </tr>\n",
       "    <tr>\n",
       "      <th>61</th>\n",
       "      <td>ERR2162215</td>\n",
       "      <td>0</td>\n",
       "    </tr>\n",
       "    <tr>\n",
       "      <th>62</th>\n",
       "      <td>ERR2162218</td>\n",
       "      <td>0</td>\n",
       "    </tr>\n",
       "    <tr>\n",
       "      <th>63</th>\n",
       "      <td>ERR2162223</td>\n",
       "      <td>0</td>\n",
       "    </tr>\n",
       "  </tbody>\n",
       "</table>\n",
       "<p>64 rows × 2 columns</p>\n",
       "</div>"
      ],
      "text/plain": [
       "        sample  label\n",
       "0   SRR6000870      1\n",
       "1   SRR6000871      1\n",
       "2   SRR6000893      1\n",
       "3   SRR6000900      1\n",
       "4   SRR6000901      1\n",
       "..         ...    ...\n",
       "59  ERR2162210      0\n",
       "60  ERR2162213      0\n",
       "61  ERR2162215      0\n",
       "62  ERR2162218      0\n",
       "63  ERR2162223      0\n",
       "\n",
       "[64 rows x 2 columns]"
      ]
     },
     "execution_count": 15,
     "metadata": {},
     "output_type": "execute_result"
    }
   ],
   "source": [
    "lab_test_64 =labels_test_64['label']\n",
    "labels_test_64"
   ]
  },
  {
   "cell_type": "code",
   "execution_count": 16,
   "id": "b7c57e87-0d58-4556-9402-3e4643faa02d",
   "metadata": {},
   "outputs": [
    {
     "data": {
      "text/plain": [
       "0.625"
      ]
     },
     "execution_count": 16,
     "metadata": {},
     "output_type": "execute_result"
    }
   ],
   "source": [
    "# Calculate the prediction accuracy of the test samples using the decision tree classifier model\n",
    "dtc.score(X_test_64, lab_test_64)"
   ]
  },
  {
   "cell_type": "code",
   "execution_count": 17,
   "id": "67eb51e3-f176-4349-84cc-11dbe5e956a9",
   "metadata": {},
   "outputs": [
    {
     "data": {
      "text/plain": [
       "array([1, 0, 0, 0, 0, 1, 1, 1, 0, 0, 0, 1, 0, 0, 0, 0, 0, 0, 0, 0, 0, 1,\n",
       "       0, 1, 0, 0, 0, 0, 0, 0, 0, 1, 0, 0, 0, 0, 0, 1, 1, 0, 0, 1, 0, 1,\n",
       "       0, 1, 0, 1, 0, 0, 1, 1, 0, 0, 0, 0, 0, 0, 0, 1, 0, 0, 0, 0])"
      ]
     },
     "execution_count": 17,
     "metadata": {},
     "output_type": "execute_result"
    }
   ],
   "source": [
    "# Predicted classification result for each sample\n",
    "dtc.predict(X_test_64)"
   ]
  }
 ],
 "metadata": {
  "kernelspec": {
   "display_name": "Python 3 (ipykernel)",
   "language": "python",
   "name": "python3"
  },
  "language_info": {
   "codemirror_mode": {
    "name": "ipython",
    "version": 3
   },
   "file_extension": ".py",
   "mimetype": "text/x-python",
   "name": "python",
   "nbconvert_exporter": "python",
   "pygments_lexer": "ipython3",
   "version": "3.9.19"
  }
 },
 "nbformat": 4,
 "nbformat_minor": 5
}
